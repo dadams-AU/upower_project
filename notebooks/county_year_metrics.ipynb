{
 "cells": [
  {
   "cell_type": "markdown",
   "id": "a75aba30",
   "metadata": {},
   "source": [
    "# County-Year Metrics Aggregation (TX + CO)\n",
    "\n"
   ]
  },
  {
   "cell_type": "code",
   "execution_count": 2,
   "id": "d0407f52",
   "metadata": {},
   "outputs": [
    {
     "name": "stdout",
     "output_type": "stream",
     "text": [
      "✅ County-year metrics table written to public.county_year_counts\n"
     ]
    }
   ],
   "source": [
    "# County-Year Metrics Aggregation (TX + CO)\n",
    "\n",
    "import os\n",
    "import pandas as pd\n",
    "from sqlalchemy import create_engine, text\n",
    "from dotenv import load_dotenv\n",
    "\n",
    "# Load environment variables\n",
    "load_dotenv()\n",
    "\n",
    "db_url = os.getenv(\"OG_IMPACT_DB_URL\")\n",
    "engine = create_engine(db_url)\n",
    "\n",
    "# Helper: aggregate by county + year using FIPS or name\n",
    "def summarize_by_county_year(table, schema, date_col, id_col, county_col=\"county_fips\", extra_where=None, fips_join=False, state_abbr=None):\n",
    "    conditions = [f\"{date_col} IS NOT NULL\", f\"{county_col} IS NOT NULL\"]\n",
    "    if extra_where:\n",
    "        conditions.append(extra_where)\n",
    "\n",
    "    if fips_join and state_abbr:\n",
    "        query = f\"\"\"\n",
    "            SELECT\n",
    "                c.county_fips AS fips,\n",
    "                EXTRACT(YEAR FROM {table}.{date_col}::timestamp)::INT AS year,\n",
    "                COUNT({table}.{id_col}) AS count\n",
    "            FROM {schema}.{table}\n",
    "            JOIN public.counties c\n",
    "              ON LOWER({table}.{county_col}) = LOWER(c.name)\n",
    "             AND c.state = '{state_abbr}'\n",
    "            WHERE {' AND '.join(conditions)}\n",
    "            GROUP BY c.county_fips, year\n",
    "            ORDER BY c.county_fips, year\n",
    "        \"\"\"\n",
    "    else:\n",
    "        query = f\"\"\"\n",
    "            SELECT\n",
    "                {county_col} AS fips,\n",
    "                EXTRACT(YEAR FROM {date_col}::timestamp)::INT AS year,\n",
    "                COUNT({id_col}) AS count\n",
    "            FROM {schema}.{table}\n",
    "            WHERE {' AND '.join(conditions)}\n",
    "            GROUP BY {county_col}, year\n",
    "            ORDER BY {county_col}, year\n",
    "        \"\"\"\n",
    "\n",
    "    return pd.read_sql(query, engine)\n",
    "\n",
    "\n",
    "# Texas: violations and inspections (use county name)\n",
    "tx_violations = summarize_by_county_year(\"violations\", \"tx\", \"violation_disc_date\", \"id\", county_col=\"county\")\n",
    "tx_inspections = summarize_by_county_year(\"inspections\", \"tx\", \"inspection_date\", \"id\", county_col=\"county\")\n",
    "\n",
    "# Colorado: wells — filter out invalid dates\n",
    "co_wells = summarize_by_county_year(\n",
    "    \"wells_joined\", \"co\", '\"Spud_Date\"', '\"API\"',\n",
    "    county_col=\"name\",\n",
    "    extra_where='\"Spud_Date\" !~ \\'^0000|^9999|00/00/0000\\''\n",
    ")\n",
    "co_violations = summarize_by_county_year(\n",
    "    \"violations\", \"co\", '\"DateOfViolation\"', '\"DocumentNumber\"',\n",
    "    county_col='\"County\"', fips_join=True, state_abbr=\"CO\"\n",
    ")\n",
    "\n",
    "co_inspections = summarize_by_county_year(\n",
    "    \"inspections\", \"co\", '\"InspectionDate\"', '\"DocNum\"',\n",
    "    county_col='\"County\"', fips_join=True, state_abbr=\"CO\"\n",
    ")\n",
    "\n",
    "# Concatenate all and tag by source/type\n",
    "all_counts = pd.concat([\n",
    "    tx_violations.assign(source=\"TX\", type=\"violation\"),\n",
    "    tx_inspections.assign(source=\"TX\", type=\"inspection\"),\n",
    "    co_wells.assign(source=\"CO\", type=\"well\"),\n",
    "    co_violations.assign(source=\"CO\", type=\"violation\"),\n",
    "    co_inspections.assign(source=\"CO\", type=\"inspection\")\n",
    "])\n",
    "\n",
    "\n",
    "# Write to public schema\n",
    "all_counts.to_sql(\"county_year_counts\", engine, schema=\"public\", if_exists=\"replace\", index=False)\n",
    "print(\"✅ County-year metrics table written to public.county_year_counts\")\n"
   ]
  }
 ],
 "metadata": {
  "kernelspec": {
   "display_name": ".venv",
   "language": "python",
   "name": "python3"
  },
  "language_info": {
   "codemirror_mode": {
    "name": "ipython",
    "version": 3
   },
   "file_extension": ".py",
   "mimetype": "text/x-python",
   "name": "python",
   "nbconvert_exporter": "python",
   "pygments_lexer": "ipython3",
   "version": "3.13.3"
  }
 },
 "nbformat": 4,
 "nbformat_minor": 5
}
