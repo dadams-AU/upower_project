{
 "cells": [
  {
   "cell_type": "markdown",
   "id": "c568aad8",
   "metadata": {},
   "source": [
    "# Jupyter Notebook: Load BLS QCEW Employment Data from API (NAICS 211 + 213111) into economic_indicators\n"
   ]
  },
  {
   "cell_type": "markdown",
   "id": "13c0c836",
   "metadata": {},
   "source": []
  },
  {
   "cell_type": "code",
   "execution_count": 1,
   "id": "6d7aae9d",
   "metadata": {},
   "outputs": [],
   "source": [
    "# Jupyter Notebook: Load BLS QCEW Employment Data from API (NAICS 211 + 213111) into economic_indicators\n",
    "\n",
    "import os\n",
    "from dotenv import load_dotenv\n",
    "import pandas as pd\n",
    "import requests\n",
    "from sqlalchemy import create_engine, text\n",
    "from sqlalchemy.engine import URL\n",
    "from time import sleep\n",
    "from tqdm import tqdm\n",
    "\n",
    "# Load environment variables\n",
    "load_dotenv()\n",
    "BLS_API_KEY = os.environ[\"BLS_API_KEY\"]\n",
    "\n",
    "# Database config\n",
    "DB_NAME = os.environ[\"DB_NAME\"]\n",
    "DB_USER = os.environ[\"DB_USER\"]\n",
    "DB_PASSWORD = os.environ[\"DB_PASSWORD\"]\n",
    "DB_HOST = os.environ.get(\"DB_HOST\", \"localhost\")\n",
    "DB_PORT = os.environ.get(\"DB_PORT\", \"5432\")\n",
    "\n",
    "connection_url = URL.create(\n",
    "    \"postgresql+psycopg2\",\n",
    "    username=DB_USER,\n",
    "    password=DB_PASSWORD,\n",
    "    host=DB_HOST,\n",
    "    port=DB_PORT,\n",
    "    database=DB_NAME,\n",
    ")\n",
    "engine = create_engine(connection_url, echo=True)\n",
    "\n"
   ]
  },
  {
   "cell_type": "code",
   "execution_count": 2,
   "id": "862c07be",
   "metadata": {},
   "outputs": [
    {
     "name": "stdout",
     "output_type": "stream",
     "text": [
      "2025-04-19 18:07:27,028 INFO sqlalchemy.engine.Engine select pg_catalog.version()\n",
      "2025-04-19 18:07:27,029 INFO sqlalchemy.engine.Engine [raw sql] {}\n",
      "2025-04-19 18:07:27,029 INFO sqlalchemy.engine.Engine select current_schema()\n",
      "2025-04-19 18:07:27,030 INFO sqlalchemy.engine.Engine [raw sql] {}\n",
      "2025-04-19 18:07:27,030 INFO sqlalchemy.engine.Engine show standard_conforming_strings\n",
      "2025-04-19 18:07:27,030 INFO sqlalchemy.engine.Engine [raw sql] {}\n",
      "2025-04-19 18:07:27,031 INFO sqlalchemy.engine.Engine BEGIN (implicit)\n",
      "2025-04-19 18:07:27,032 INFO sqlalchemy.engine.Engine \n",
      "        SELECT DISTINCT county_fips, year\n",
      "        FROM economic_indicators\n",
      "        WHERE (county_fips LIKE '08%%' OR county_fips LIKE '48%%')\n",
      "          AND year BETWEEN 2015 AND 2021\n",
      "        ORDER BY year\n",
      "    \n",
      "2025-04-19 18:07:27,032 INFO sqlalchemy.engine.Engine [generated in 0.00057s] {}\n",
      "2025-04-19 18:07:27,036 INFO sqlalchemy.engine.Engine ROLLBACK\n"
     ]
    }
   ],
   "source": [
    "# ----------------------------------------\n",
    "# Query target county-year pairs\n",
    "# ----------------------------------------\n",
    "\n",
    "with engine.connect() as conn:\n",
    "    result = conn.execute(text(\"\"\"\n",
    "        SELECT DISTINCT county_fips, year\n",
    "        FROM economic_indicators\n",
    "        WHERE (county_fips LIKE '08%' OR county_fips LIKE '48%')\n",
    "          AND year BETWEEN 2015 AND 2021\n",
    "        ORDER BY year\n",
    "    \"\"\"))\n",
    "    county_years = list(result.mappings())\n",
    "\n"
   ]
  },
  {
   "cell_type": "code",
   "execution_count": 3,
   "id": "d6a35641",
   "metadata": {},
   "outputs": [],
   "source": [
    "# ----------------------------------------\n",
    "# Build list of all series IDs for NAICS 211 and 213111\n",
    "# ----------------------------------------\n",
    "\n",
    "series_map = {}\n",
    "for row in county_years:\n",
    "    state = row[\"county_fips\"][:2]\n",
    "    county = row[\"county_fips\"][2:]\n",
    "    year = row[\"year\"]\n",
    "    for naics in [\"211\", \"213111\"]:\n",
    "        naics6 = naics.zfill(6)\n",
    "        sid = f\"ENU{state}{county}5{naics6}\"\n",
    "        series_map[sid] = {\"county_fips\": state + county, \"year\": year, \"naics\": naics}\n",
    "\n"
   ]
  },
  {
   "cell_type": "code",
   "execution_count": 4,
   "id": "890f22dc",
   "metadata": {},
   "outputs": [
    {
     "name": "stderr",
     "output_type": "stream",
     "text": [
      "Fetching BLS data:   0%|          | 0/13 [00:00<?, ?it/s]"
     ]
    },
    {
     "name": "stdout",
     "output_type": "stream",
     "text": [
      "❌ Batch 0 failed: 'series'\n"
     ]
    },
    {
     "name": "stderr",
     "output_type": "stream",
     "text": [
      "Fetching BLS data:   8%|▊         | 1/13 [00:02<00:27,  2.26s/it]"
     ]
    },
    {
     "name": "stdout",
     "output_type": "stream",
     "text": [
      "❌ Batch 50 failed: 'series'\n"
     ]
    },
    {
     "name": "stderr",
     "output_type": "stream",
     "text": [
      "Fetching BLS data:  15%|█▌        | 2/13 [00:04<00:22,  2.04s/it]"
     ]
    },
    {
     "name": "stdout",
     "output_type": "stream",
     "text": [
      "❌ Batch 100 failed: 'series'\n"
     ]
    },
    {
     "name": "stderr",
     "output_type": "stream",
     "text": [
      "Fetching BLS data:  23%|██▎       | 3/13 [00:06<00:20,  2.02s/it]"
     ]
    },
    {
     "name": "stdout",
     "output_type": "stream",
     "text": [
      "❌ Batch 150 failed: 'series'\n"
     ]
    },
    {
     "name": "stderr",
     "output_type": "stream",
     "text": [
      "Fetching BLS data:  31%|███       | 4/13 [00:08<00:18,  2.01s/it]"
     ]
    },
    {
     "name": "stdout",
     "output_type": "stream",
     "text": [
      "❌ Batch 200 failed: 'series'\n"
     ]
    },
    {
     "name": "stderr",
     "output_type": "stream",
     "text": [
      "Fetching BLS data:  38%|███▊      | 5/13 [00:10<00:15,  1.99s/it]"
     ]
    },
    {
     "name": "stdout",
     "output_type": "stream",
     "text": [
      "❌ Batch 250 failed: 'series'\n"
     ]
    },
    {
     "name": "stderr",
     "output_type": "stream",
     "text": [
      "Fetching BLS data:  46%|████▌     | 6/13 [00:11<00:13,  1.96s/it]"
     ]
    },
    {
     "name": "stdout",
     "output_type": "stream",
     "text": [
      "❌ Batch 300 failed: 'series'\n"
     ]
    },
    {
     "name": "stderr",
     "output_type": "stream",
     "text": [
      "Fetching BLS data:  54%|█████▍    | 7/13 [00:13<00:11,  1.97s/it]"
     ]
    },
    {
     "name": "stdout",
     "output_type": "stream",
     "text": [
      "❌ Batch 350 failed: 'series'\n"
     ]
    },
    {
     "name": "stderr",
     "output_type": "stream",
     "text": [
      "Fetching BLS data:  62%|██████▏   | 8/13 [00:15<00:09,  1.98s/it]"
     ]
    },
    {
     "name": "stdout",
     "output_type": "stream",
     "text": [
      "❌ Batch 400 failed: 'series'\n"
     ]
    },
    {
     "name": "stderr",
     "output_type": "stream",
     "text": [
      "Fetching BLS data:  69%|██████▉   | 9/13 [00:17<00:07,  1.98s/it]"
     ]
    },
    {
     "name": "stdout",
     "output_type": "stream",
     "text": [
      "❌ Batch 450 failed: 'series'\n"
     ]
    },
    {
     "name": "stderr",
     "output_type": "stream",
     "text": [
      "Fetching BLS data:  77%|███████▋  | 10/13 [00:19<00:05,  1.98s/it]"
     ]
    },
    {
     "name": "stdout",
     "output_type": "stream",
     "text": [
      "❌ Batch 500 failed: 'series'\n"
     ]
    },
    {
     "name": "stderr",
     "output_type": "stream",
     "text": [
      "Fetching BLS data:  85%|████████▍ | 11/13 [00:21<00:03,  1.98s/it]"
     ]
    },
    {
     "name": "stdout",
     "output_type": "stream",
     "text": [
      "❌ Batch 550 failed: 'series'\n"
     ]
    },
    {
     "name": "stderr",
     "output_type": "stream",
     "text": [
      "Fetching BLS data:  92%|█████████▏| 12/13 [00:23<00:01,  1.96s/it]"
     ]
    },
    {
     "name": "stdout",
     "output_type": "stream",
     "text": [
      "❌ Batch 600 failed: 'series'\n"
     ]
    },
    {
     "name": "stderr",
     "output_type": "stream",
     "text": [
      "Fetching BLS data: 100%|██████████| 13/13 [00:25<00:00,  1.98s/it]\n"
     ]
    }
   ],
   "source": [
    "# ----------------------------------------\n",
    "# Batch query 50 at a time\n",
    "# ----------------------------------------\n",
    "\n",
    "all_series = list(series_map.keys())\n",
    "batch_size = 50\n",
    "records = []\n",
    "\n",
    "for i in tqdm(range(0, len(all_series), batch_size), desc=\"Fetching BLS data\"):\n",
    "    batch_ids = all_series[i:i+batch_size]\n",
    "    payload = {\n",
    "        \"seriesid\": batch_ids,\n",
    "        \"startyear\": \"2015\",\n",
    "        \"endyear\": \"2021\",\n",
    "        \"registrationkey\": BLS_API_KEY\n",
    "    }\n",
    "    url = \"https://api.bls.gov/publicAPI/v2/timeseries/data/\"\n",
    "    headers = {\"Content-type\": \"application/json\"}\n",
    "\n",
    "    try:\n",
    "        response = requests.post(url, json=payload, headers=headers)\n",
    "        data = response.json()\n",
    "        if \"Results\" not in data:\n",
    "            print(f\"⚠️ No results in batch {i}\")\n",
    "            continue\n",
    "\n",
    "        for series in data[\"Results\"][\"series\"]:\n",
    "            sid = series[\"seriesID\"]\n",
    "            meta = series_map.get(sid, {})\n",
    "            for obs in series[\"data\"]:\n",
    "                if obs[\"period\"] != \"A\":\n",
    "                    continue  # annual only\n",
    "                records.append({\n",
    "                    \"county_fips\": meta[\"county_fips\"],\n",
    "                    \"year\": int(obs[\"year\"]),\n",
    "                    f\"qcew_emp_{meta['naics']}\": float(obs[\"value\"])\n",
    "                })\n",
    "    except Exception as e:\n",
    "        print(f\"❌ Batch {i} failed: {e}\")\n",
    "    sleep(1.5)  # avoid rate limits\n",
    "\n",
    "\n"
   ]
  },
  {
   "cell_type": "code",
   "execution_count": 5,
   "id": "34dd1e5a",
   "metadata": {},
   "outputs": [
    {
     "name": "stdout",
     "output_type": "stream",
     "text": [
      "No records found.\n"
     ]
    }
   ],
   "source": [
    "# ----------------------------------------\n",
    "# Convert to DataFrame and reshape for update\n",
    "# ----------------------------------------\n",
    "\n",
    "df = pd.DataFrame(records)\n",
    "if df.empty:\n",
    "    print(\"No records found.\")\n",
    "else:\n",
    "    df = df.groupby([\"county_fips\", \"year\"]).first().reset_index()\n",
    "    print(f\"✅ {len(df)} records ready to update.\")\n",
    "\n",
    "    with engine.begin() as conn:\n",
    "        for _, row in df.iterrows():\n",
    "            conn.execute(\n",
    "                text(\"\"\"\n",
    "                    UPDATE economic_indicators\n",
    "                    SET qcew_emp_211 = COALESCE(:emp211, qcew_emp_211),\n",
    "                        qcew_emp_213111 = COALESCE(:emp213, qcew_emp_213111)\n",
    "                    WHERE county_fips = :county_fips AND year = :year\n",
    "                \"\"\"),\n",
    "                {\n",
    "                    \"emp211\": row.get(\"qcew_emp_211\"),\n",
    "                    \"emp213\": row.get(\"qcew_emp_213111\"),\n",
    "                    \"county_fips\": row[\"county_fips\"],\n",
    "                    \"year\": row[\"year\"]\n",
    "                }\n",
    "            )\n",
    "\n",
    "    print(\"✅ BLS API QCEW employment data updated for NAICS 211 and 213111.\")"
   ]
  }
 ],
 "metadata": {
  "kernelspec": {
   "display_name": ".venv",
   "language": "python",
   "name": "python3"
  },
  "language_info": {
   "codemirror_mode": {
    "name": "ipython",
    "version": 3
   },
   "file_extension": ".py",
   "mimetype": "text/x-python",
   "name": "python",
   "nbconvert_exporter": "python",
   "pygments_lexer": "ipython3",
   "version": "3.13.3"
  }
 },
 "nbformat": 4,
 "nbformat_minor": 5
}
